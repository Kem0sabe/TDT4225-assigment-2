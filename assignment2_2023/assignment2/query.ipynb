{
 "cells": [
  {
   "cell_type": "code",
   "execution_count": 6,
   "metadata": {},
   "outputs": [
    {
     "name": "stdout",
     "output_type": "stream",
     "text": [
      "Requirement already satisfied: mysql-connector-python in c:\\users\\marti\\appdata\\local\\packages\\pythonsoftwarefoundation.python.3.7_qbz5n2kfra8p0\\localcache\\local-packages\\python37\\site-packages (8.0.33)\n",
      "Requirement already satisfied: protobuf<=3.20.3,>=3.11.0 in c:\\users\\marti\\appdata\\local\\packages\\pythonsoftwarefoundation.python.3.7_qbz5n2kfra8p0\\localcache\\local-packages\\python37\\site-packages (from mysql-connector-python) (3.19.4)\n"
     ]
    }
   ],
   "source": [
    "!pip install mysql-connector-python"
   ]
  },
  {
   "cell_type": "code",
   "execution_count": 77,
   "metadata": {},
   "outputs": [],
   "source": [
    "import mysql.connector as mysql\n",
    "#connection = sqlite3.connect('backup.db')\n",
    "\n",
    "\n",
    "try:\n",
    "    connection = mysql.connect(host=\"localhost\", database=\"test_db\", user=\"root\", password=\"sveinung\", port=3306)\n",
    "except Exception as e:\n",
    "    print(\"ERROR: Failed to connect to db:\", e)\n",
    "cursor = connection.cursor()"
   ]
  },
  {
   "cell_type": "code",
   "execution_count": 8,
   "metadata": {},
   "outputs": [
    {
     "data": {
      "text/plain": [
       "[(182,), (16030,), (9636829,)]"
      ]
     },
     "execution_count": 8,
     "metadata": {},
     "output_type": "execute_result"
    }
   ],
   "source": [
    "cursor.execute(\"\"\"\n",
    "SELECT count(id)\n",
    "FROM User\n",
    "UNION ALL\n",
    "SELECT count(id)\n",
    "FROM Activity\n",
    "UNION ALL\n",
    "SELECT count(id)\n",
    "FROM TrackPoint\n",
    "\"\"\")\n",
    "\n",
    "cursor.fetchall()"
   ]
  },
  {
   "cell_type": "code",
   "execution_count": 9,
   "metadata": {},
   "outputs": [
    {
     "data": {
      "text/plain": [
       "[(Decimal('55704.2139'), 1007827, 17)]"
      ]
     },
     "execution_count": 9,
     "metadata": {},
     "output_type": "execute_result"
    }
   ],
   "source": [
    "cursor.execute(\"\"\"\n",
    "    SELECT \n",
    "        AVG(trackpoints_count) AS average_trackpoints, \n",
    "        MAX(trackpoints_count) AS maximum_trackpoints, \n",
    "        MIN(trackpoints_count) AS minimum_trackpoints\n",
    "    FROM (\n",
    "        SELECT \n",
    "            User.id, \n",
    "            COUNT(TrackPoint.id) AS trackpoints_count\n",
    "        FROM User\n",
    "        INNER JOIN Activity ON User.id = Activity.user_id\n",
    "        INNER JOIN TrackPoint ON Activity.id = TrackPoint.activity_id\n",
    "        GROUP BY User.id\n",
    "    ) AS trackpoints_per_user\n",
    "\"\"\")\n",
    "\n",
    "cursor.fetchall()\n"
   ]
  },
  {
   "cell_type": "code",
   "execution_count": 10,
   "metadata": {},
   "outputs": [
    {
     "data": {
      "text/plain": [
       "[('128', 2101),\n",
       " ('153', 1791),\n",
       " ('025', 715),\n",
       " ('163', 704),\n",
       " ('062', 691),\n",
       " ('144', 563),\n",
       " ('041', 398),\n",
       " ('085', 364),\n",
       " ('004', 346),\n",
       " ('140', 345),\n",
       " ('167', 320),\n",
       " ('068', 278),\n",
       " ('017', 265),\n",
       " ('003', 261),\n",
       " ('014', 232)]"
      ]
     },
     "execution_count": 10,
     "metadata": {},
     "output_type": "execute_result"
    }
   ],
   "source": [
    "cursor.execute(\"\"\"\n",
    "    SELECT \n",
    "        User.id, \n",
    "        COUNT(DISTINCT Activity.id) AS activity_count\n",
    "    FROM User\n",
    "    INNER JOIN Activity ON User.id = Activity.user_id\n",
    "    GROUP BY User.id\n",
    "    ORDER BY activity_count DESC\n",
    "    LIMIT 15;\n",
    "\"\"\")\n",
    "\n",
    "cursor.fetchall()\n"
   ]
  },
  {
   "cell_type": "code",
   "execution_count": 11,
   "metadata": {},
   "outputs": [
    {
     "data": {
      "text/plain": [
       "[('010',),\n",
       " ('052',),\n",
       " ('062',),\n",
       " ('073',),\n",
       " ('081',),\n",
       " ('084',),\n",
       " ('085',),\n",
       " ('091',),\n",
       " ('092',),\n",
       " ('112',),\n",
       " ('125',),\n",
       " ('128',),\n",
       " ('175',)]"
      ]
     },
     "execution_count": 11,
     "metadata": {},
     "output_type": "execute_result"
    }
   ],
   "source": [
    "cursor.execute(\"\"\"\n",
    "    SELECT DISTINCT User.id\n",
    "    FROM User\n",
    "    INNER JOIN Activity ON User.id = Activity.user_id\n",
    "    WHERE Activity.transportation_mode = 'bus';\n",
    "\"\"\")\n",
    "cursor.fetchall()"
   ]
  },
  {
   "cell_type": "markdown",
   "metadata": {},
   "source": [
    "5. "
   ]
  },
  {
   "cell_type": "code",
   "execution_count": 12,
   "metadata": {},
   "outputs": [
    {
     "data": {
      "text/plain": [
       "[('128', 9),\n",
       " ('062', 7),\n",
       " ('085', 4),\n",
       " ('084', 3),\n",
       " ('163', 3),\n",
       " ('058', 3),\n",
       " ('081', 3),\n",
       " ('078', 3),\n",
       " ('112', 3),\n",
       " ('020', 2)]"
      ]
     },
     "execution_count": 12,
     "metadata": {},
     "output_type": "execute_result"
    }
   ],
   "source": [
    "cursor.execute(\"\"\"\n",
    "    SELECT \n",
    "        User.id, \n",
    "        COUNT(DISTINCT Activity.transportation_mode) AS mode_count\n",
    "    FROM User\n",
    "    INNER JOIN Activity ON User.id = Activity.user_id\n",
    "    WHERE Activity.transportation_mode != 'NULL'\n",
    "    GROUP BY User.id\n",
    "    ORDER BY mode_count DESC\n",
    "    LIMIT 10;\n",
    "\"\"\")\n",
    "cursor.fetchall()"
   ]
  },
  {
   "cell_type": "code",
   "execution_count": 13,
   "metadata": {},
   "outputs": [
    {
     "data": {
      "text/plain": [
       "[]"
      ]
     },
     "execution_count": 13,
     "metadata": {},
     "output_type": "execute_result"
    }
   ],
   "source": [
    "cursor.execute(\"\"\"\n",
    "    SELECT \n",
    "        user_id, \n",
    "        transportation_mode, \n",
    "        start_date_time, \n",
    "        end_date_time, \n",
    "        COUNT(*) AS occurrence_count\n",
    "    FROM Activity\n",
    "    GROUP BY user_id, transportation_mode, start_date_time, end_date_time\n",
    "    HAVING COUNT(*) > 1;\n",
    "\"\"\")\n",
    "cursor.fetchall()"
   ]
  },
  {
   "cell_type": "markdown",
   "metadata": {},
   "source": [
    "1. a) Not sure if the task asks for us to include the activities that are not classified, we therefore make the assumption that we should not list the 'NULL' activities."
   ]
  },
  {
   "cell_type": "code",
   "execution_count": 14,
   "metadata": {},
   "outputs": [
    {
     "data": {
      "text/plain": [
       "[(9,)]"
      ]
     },
     "execution_count": 14,
     "metadata": {},
     "output_type": "execute_result"
    }
   ],
   "source": [
    "cursor.execute(\"\"\"\n",
    "    SELECT \n",
    "        COUNT(DISTINCT user_id) \n",
    "    FROM Activity\n",
    "    WHERE DATE(start_date_time) != DATE(end_date_time) AND transportation_mode != 'NULL';\n",
    "\"\"\")\n",
    "\n",
    "\n",
    "cursor.fetchall()"
   ]
  },
  {
   "cell_type": "markdown",
   "metadata": {},
   "source": [
    "b) Same assumption"
   ]
  },
  {
   "cell_type": "code",
   "execution_count": 15,
   "metadata": {},
   "outputs": [
    {
     "data": {
      "text/plain": [
       "[('020', 'bike', 610),\n",
       " ('021', 'walk', 237),\n",
       " ('058', 'car', 36),\n",
       " ('062', 'walk', 83),\n",
       " ('085', 'bus', 58),\n",
       " ('115', 'car', 88),\n",
       " ('115', 'car', 62),\n",
       " ('115', 'car', 60),\n",
       " ('115', 'car', 65),\n",
       " ('115', 'car', 83),\n",
       " ('115', 'car', 54),\n",
       " ('115', 'car', 68),\n",
       " ('115', 'car', 69),\n",
       " ('115', 'car', 63),\n",
       " ('115', 'car', 61),\n",
       " ('115', 'car', 55),\n",
       " ('115', 'car', 84),\n",
       " ('115', 'car', 77),\n",
       " ('115', 'car', 61),\n",
       " ('115', 'car', 63),\n",
       " ('115', 'car', 58),\n",
       " ('115', 'car', 466),\n",
       " ('115', 'car', 65),\n",
       " ('115', 'car', 57),\n",
       " ('115', 'car', 68),\n",
       " ('126', 'walk', 7),\n",
       " ('128', 'car', 64),\n",
       " ('128', 'car', 44),\n",
       " ('128', 'bus', 58),\n",
       " ('128', 'subway', 30),\n",
       " ('128', 'car', 33),\n",
       " ('128', 'car', 100),\n",
       " ('128', 'airplane', 331),\n",
       " ('128', 'subway', 27),\n",
       " ('163', 'bike', 11)]"
      ]
     },
     "execution_count": 15,
     "metadata": {},
     "output_type": "execute_result"
    }
   ],
   "source": [
    "cursor.execute(\"\"\"\n",
    "    SELECT \n",
    "        user_id, \n",
    "        transportation_mode, \n",
    "        TIMESTAMPDIFF(MINUTE, start_date_time, end_date_time) AS duration_minutes\n",
    "    FROM Activity\n",
    "    WHERE DATE(start_date_time) != DATE(end_date_time) AND transportation_mode != 'NULL';\n",
    "\"\"\")\n",
    "\n",
    "\n",
    "cursor.fetchall()"
   ]
  },
  {
   "cell_type": "markdown",
   "metadata": {},
   "source": [
    "8."
   ]
  },
  {
   "cell_type": "code",
   "execution_count": 16,
   "metadata": {},
   "outputs": [],
   "source": [
    "cursor.execute(\"\"\"\n",
    "SELECT user.id, date, lat,lon FROM Trackpoint\n",
    "INNER JOIN Activity\n",
    "ON Activity.id = Trackpoint.activity_id\n",
    "INNER JOIN user\n",
    "on user.id = activity.user_id\n",
    "ORDER BY date ASC\n",
    "\n",
    "\"\"\")\n",
    "\n",
    "\n",
    "\n",
    "\n",
    "result = cursor.fetchall()"
   ]
  },
  {
   "cell_type": "code",
   "execution_count": 18,
   "metadata": {},
   "outputs": [],
   "source": [
    "import haversine as hs\n",
    "\n"
   ]
  },
  {
   "cell_type": "code",
   "execution_count": 19,
   "metadata": {},
   "outputs": [],
   "source": [
    "meetups = []\n",
    "for i in range(len(result)):\n",
    "    user1 = result[i]\n",
    "    user1_id = user1[0]\n",
    "    user1_date = user1[1]\n",
    "    user1_lat = user1[2]\n",
    "    user1_lon = user1[3]\n",
    "    for j in range(i+1,len(result)):\n",
    "        user2 = result[j]\n",
    "        user2_id = user2[0]\n",
    "        if user1_id == user2_id: continue\n",
    "        user2_date = user2[1]\n",
    "        seconds_difference = (user2_date - user1_date).total_seconds()\n",
    "        if seconds_difference > 30: break\n",
    "        user2_lat = user2[2]\n",
    "        user2_lon = user2[3]\n",
    "        distance = hs.haversine((user1_lat,user1_lon),(user2_lat,user2_lon))\n",
    "        if distance > 0.05: continue\n",
    "        meetups.append((user1_id,user2_id))\n",
    "    \n",
    "        \n",
    "    \n",
    "        \n",
    "\n",
    "    #print((date -date).total_seconds())\n",
    "    "
   ]
  },
  {
   "cell_type": "code",
   "execution_count": 26,
   "metadata": {},
   "outputs": [
    {
     "name": "stdout",
     "output_type": "stream",
     "text": [
      "number of users who have meet eachother: 121\n"
     ]
    }
   ],
   "source": [
    "dic = {}\n",
    "for tup in meetups:\n",
    "    id1 = tup[0]\n",
    "    id2 = tup[1]\n",
    "    if id1 not in dic: dic[id1] = {id2}\n",
    "    else: dic[id1].add(id2)\n",
    "    if id2 not in dic: dic[id2] = {id1}\n",
    "    else: dic[id2].add(id1)\n",
    "\n",
    "print(\"number of users who have meet eachother:\", len(dic))\n",
    "\n",
    "\n"
   ]
  },
  {
   "cell_type": "markdown",
   "metadata": {},
   "source": [
    "9."
   ]
  },
  {
   "cell_type": "code",
   "execution_count": 34,
   "metadata": {},
   "outputs": [
    {
     "data": {
      "text/plain": [
       "[('153', Decimal('2062756')),\n",
       " ('128', Decimal('1885825')),\n",
       " ('004', Decimal('1144727')),\n",
       " ('003', Decimal('793859')),\n",
       " ('163', Decimal('770091')),\n",
       " ('085', Decimal('753055')),\n",
       " ('062', Decimal('670128')),\n",
       " ('041', Decimal('655190')),\n",
       " ('144', Decimal('568877')),\n",
       " ('030', Decimal('563027')),\n",
       " ('039', Decimal('511261')),\n",
       " ('025', Decimal('470196')),\n",
       " ('084', Decimal('453032')),\n",
       " ('167', Decimal('417595')),\n",
       " ('000', Decimal('413662'))]"
      ]
     },
     "execution_count": 34,
     "metadata": {},
     "output_type": "execute_result"
    }
   ],
   "source": [
    "cursor.execute(\"\"\"\n",
    "SELECT\n",
    "    u.id AS user_id,\n",
    "    SUM(CASE WHEN tp1.altitude > tp2.altitude THEN tp1.altitude - tp2.altitude ELSE 0 END) AS total_altitude_gain\n",
    "FROM\n",
    "    User AS u\n",
    "JOIN\n",
    "    Activity AS a ON u.id = a.user_id\n",
    "JOIN\n",
    "    TrackPoint AS tp1 ON a.id = tp1.activity_id\n",
    "JOIN\n",
    "    TrackPoint AS tp2 ON a.id = tp2.activity_id AND tp1.id = tp2.id - 1\n",
    "WHERE\n",
    "    tp1.altitude != 'NULL' AND tp2.altitude != 'NULL'\n",
    "GROUP BY\n",
    "    u.id\n",
    "ORDER BY\n",
    "    total_altitude_gain DESC\n",
    "LIMIT\n",
    "    15;\n",
    "\n",
    "\"\"\")\n",
    "\n",
    "cursor.fetchall()"
   ]
  },
  {
   "cell_type": "code",
   "execution_count": 76,
   "metadata": {},
   "outputs": [
    {
     "ename": "InterfaceError",
     "evalue": "2013: Lost connection to MySQL server during query",
     "output_type": "error",
     "traceback": [
      "\u001b[1;31m---------------------------------------------------------------------------\u001b[0m",
      "\u001b[1;31mInterfaceError\u001b[0m                            Traceback (most recent call last)",
      "\u001b[1;32m~\\AppData\\Local\\Temp\\ipykernel_20456\\3112339200.py\u001b[0m in \u001b[0;36m<module>\u001b[1;34m\u001b[0m\n\u001b[0;32m     28\u001b[0m \u001b[1;33m\u001b[0m\u001b[0m\n\u001b[0;32m     29\u001b[0m \u001b[1;33m\u001b[0m\u001b[0m\n\u001b[1;32m---> 30\u001b[1;33m \"\"\")\n\u001b[0m\u001b[0;32m     31\u001b[0m \u001b[1;33m\u001b[0m\u001b[0m\n\u001b[0;32m     32\u001b[0m \u001b[0mcursor\u001b[0m\u001b[1;33m.\u001b[0m\u001b[0mfetchall\u001b[0m\u001b[1;33m(\u001b[0m\u001b[1;33m)\u001b[0m\u001b[1;33m\u001b[0m\u001b[1;33m\u001b[0m\u001b[0m\n",
      "\u001b[1;32m~\\AppData\\Local\\Packages\\PythonSoftwareFoundation.Python.3.7_qbz5n2kfra8p0\\LocalCache\\local-packages\\Python37\\site-packages\\mysql\\connector\\cursor.py\u001b[0m in \u001b[0;36mexecute\u001b[1;34m(self, operation, params, multi)\u001b[0m\n\u001b[0;32m    613\u001b[0m \u001b[1;33m\u001b[0m\u001b[0m\n\u001b[0;32m    614\u001b[0m         \u001b[1;32mtry\u001b[0m\u001b[1;33m:\u001b[0m\u001b[1;33m\u001b[0m\u001b[1;33m\u001b[0m\u001b[0m\n\u001b[1;32m--> 615\u001b[1;33m             \u001b[0mself\u001b[0m\u001b[1;33m.\u001b[0m\u001b[0m_handle_result\u001b[0m\u001b[1;33m(\u001b[0m\u001b[0mself\u001b[0m\u001b[1;33m.\u001b[0m\u001b[0m_connection\u001b[0m\u001b[1;33m.\u001b[0m\u001b[0mcmd_query\u001b[0m\u001b[1;33m(\u001b[0m\u001b[0mstmt\u001b[0m\u001b[1;33m)\u001b[0m\u001b[1;33m)\u001b[0m\u001b[1;33m\u001b[0m\u001b[1;33m\u001b[0m\u001b[0m\n\u001b[0m\u001b[0;32m    616\u001b[0m         \u001b[1;32mexcept\u001b[0m \u001b[0mInterfaceError\u001b[0m \u001b[1;32mas\u001b[0m \u001b[0merr\u001b[0m\u001b[1;33m:\u001b[0m\u001b[1;33m\u001b[0m\u001b[1;33m\u001b[0m\u001b[0m\n\u001b[0;32m    617\u001b[0m             \u001b[1;32mif\u001b[0m \u001b[0mself\u001b[0m\u001b[1;33m.\u001b[0m\u001b[0m_connection\u001b[0m\u001b[1;33m.\u001b[0m\u001b[0mhave_next_result\u001b[0m\u001b[1;33m:\u001b[0m\u001b[1;33m\u001b[0m\u001b[1;33m\u001b[0m\u001b[0m\n",
      "\u001b[1;32m~\\AppData\\Local\\Packages\\PythonSoftwareFoundation.Python.3.7_qbz5n2kfra8p0\\LocalCache\\local-packages\\Python37\\site-packages\\mysql\\connector\\connection.py\u001b[0m in \u001b[0;36mcmd_query\u001b[1;34m(self, query, raw, buffered, raw_as_string)\u001b[0m\n\u001b[0;32m   1044\u001b[0m         \u001b[0mquery\u001b[0m \u001b[1;33m=\u001b[0m \u001b[0mbytes\u001b[0m\u001b[1;33m(\u001b[0m\u001b[0mpacket\u001b[0m\u001b[1;33m)\u001b[0m\u001b[1;33m\u001b[0m\u001b[1;33m\u001b[0m\u001b[0m\n\u001b[0;32m   1045\u001b[0m         \u001b[1;32mtry\u001b[0m\u001b[1;33m:\u001b[0m\u001b[1;33m\u001b[0m\u001b[1;33m\u001b[0m\u001b[0m\n\u001b[1;32m-> 1046\u001b[1;33m             \u001b[0mresult\u001b[0m \u001b[1;33m=\u001b[0m \u001b[0mself\u001b[0m\u001b[1;33m.\u001b[0m\u001b[0m_handle_result\u001b[0m\u001b[1;33m(\u001b[0m\u001b[0mself\u001b[0m\u001b[1;33m.\u001b[0m\u001b[0m_send_cmd\u001b[0m\u001b[1;33m(\u001b[0m\u001b[0mServerCmd\u001b[0m\u001b[1;33m.\u001b[0m\u001b[0mQUERY\u001b[0m\u001b[1;33m,\u001b[0m \u001b[0mquery\u001b[0m\u001b[1;33m)\u001b[0m\u001b[1;33m)\u001b[0m\u001b[1;33m\u001b[0m\u001b[1;33m\u001b[0m\u001b[0m\n\u001b[0m\u001b[0;32m   1047\u001b[0m         \u001b[1;32mexcept\u001b[0m \u001b[0mProgrammingError\u001b[0m \u001b[1;32mas\u001b[0m \u001b[0merr\u001b[0m\u001b[1;33m:\u001b[0m\u001b[1;33m\u001b[0m\u001b[1;33m\u001b[0m\u001b[0m\n\u001b[0;32m   1048\u001b[0m             \u001b[1;32mif\u001b[0m \u001b[0merr\u001b[0m\u001b[1;33m.\u001b[0m\u001b[0merrno\u001b[0m \u001b[1;33m==\u001b[0m \u001b[1;36m3948\u001b[0m \u001b[1;32mand\u001b[0m \u001b[1;34m\"Loading local data is disabled\"\u001b[0m \u001b[1;32min\u001b[0m \u001b[0merr\u001b[0m\u001b[1;33m.\u001b[0m\u001b[0mmsg\u001b[0m\u001b[1;33m:\u001b[0m\u001b[1;33m\u001b[0m\u001b[1;33m\u001b[0m\u001b[0m\n",
      "\u001b[1;32m~\\AppData\\Local\\Packages\\PythonSoftwareFoundation.Python.3.7_qbz5n2kfra8p0\\LocalCache\\local-packages\\Python37\\site-packages\\mysql\\connector\\connection.py\u001b[0m in \u001b[0;36m_send_cmd\u001b[1;34m(self, command, argument, packet_number, packet, expect_response, compressed_packet_number)\u001b[0m\n\u001b[0;32m    665\u001b[0m         \u001b[1;32mif\u001b[0m \u001b[1;32mnot\u001b[0m \u001b[0mexpect_response\u001b[0m\u001b[1;33m:\u001b[0m\u001b[1;33m\u001b[0m\u001b[1;33m\u001b[0m\u001b[0m\n\u001b[0;32m    666\u001b[0m             \u001b[1;32mreturn\u001b[0m \u001b[1;32mNone\u001b[0m\u001b[1;33m\u001b[0m\u001b[1;33m\u001b[0m\u001b[0m\n\u001b[1;32m--> 667\u001b[1;33m         \u001b[1;32mreturn\u001b[0m \u001b[0mself\u001b[0m\u001b[1;33m.\u001b[0m\u001b[0m_socket\u001b[0m\u001b[1;33m.\u001b[0m\u001b[0mrecv\u001b[0m\u001b[1;33m(\u001b[0m\u001b[1;33m)\u001b[0m\u001b[1;33m\u001b[0m\u001b[1;33m\u001b[0m\u001b[0m\n\u001b[0m\u001b[0;32m    668\u001b[0m \u001b[1;33m\u001b[0m\u001b[0m\n\u001b[0;32m    669\u001b[0m     def _send_data(\n",
      "\u001b[1;32m~\\AppData\\Local\\Packages\\PythonSoftwareFoundation.Python.3.7_qbz5n2kfra8p0\\LocalCache\\local-packages\\Python37\\site-packages\\mysql\\connector\\network.py\u001b[0m in \u001b[0;36mrecv_plain\u001b[1;34m(self)\u001b[0m\n\u001b[0;32m    286\u001b[0m                 \u001b[0mread\u001b[0m \u001b[1;33m=\u001b[0m \u001b[0mself\u001b[0m\u001b[1;33m.\u001b[0m\u001b[0msock\u001b[0m\u001b[1;33m.\u001b[0m\u001b[0mrecv_into\u001b[0m\u001b[1;33m(\u001b[0m\u001b[0mpacket_view\u001b[0m\u001b[1;33m,\u001b[0m \u001b[0mrest\u001b[0m\u001b[1;33m)\u001b[0m\u001b[1;33m\u001b[0m\u001b[1;33m\u001b[0m\u001b[0m\n\u001b[0;32m    287\u001b[0m                 \u001b[1;32mif\u001b[0m \u001b[0mread\u001b[0m \u001b[1;33m==\u001b[0m \u001b[1;36m0\u001b[0m \u001b[1;32mand\u001b[0m \u001b[0mrest\u001b[0m \u001b[1;33m>\u001b[0m \u001b[1;36m0\u001b[0m\u001b[1;33m:\u001b[0m\u001b[1;33m\u001b[0m\u001b[1;33m\u001b[0m\u001b[0m\n\u001b[1;32m--> 288\u001b[1;33m                     \u001b[1;32mraise\u001b[0m \u001b[0mInterfaceError\u001b[0m\u001b[1;33m(\u001b[0m\u001b[0merrno\u001b[0m\u001b[1;33m=\u001b[0m\u001b[1;36m2013\u001b[0m\u001b[1;33m)\u001b[0m\u001b[1;33m\u001b[0m\u001b[1;33m\u001b[0m\u001b[0m\n\u001b[0m\u001b[0;32m    289\u001b[0m                 \u001b[0mpacket_view\u001b[0m \u001b[1;33m=\u001b[0m \u001b[0mpacket_view\u001b[0m\u001b[1;33m[\u001b[0m\u001b[0mread\u001b[0m\u001b[1;33m:\u001b[0m\u001b[1;33m]\u001b[0m\u001b[1;33m\u001b[0m\u001b[1;33m\u001b[0m\u001b[0m\n\u001b[0;32m    290\u001b[0m                 \u001b[0mrest\u001b[0m \u001b[1;33m-=\u001b[0m \u001b[0mread\u001b[0m\u001b[1;33m\u001b[0m\u001b[1;33m\u001b[0m\u001b[0m\n",
      "\u001b[1;31mInterfaceError\u001b[0m: 2013: Lost connection to MySQL server during query"
     ]
    }
   ],
   "source": [
    "cursor.execute(\"\"\"\n",
    "\n",
    "\n",
    "WITH distance AS (\n",
    "    SELECT\n",
    "        a.user_id,\n",
    "        a.transportation_mode,\n",
    "        SUM(\n",
    "            6371 * ACOS(\n",
    "                COS(RADIANS(tp1.lat)) * COS(RADIANS(tp2.lat)) * COS(RADIANS(tp2.lon) - RADIANS(tp1.lon)) +\n",
    "                SIN(RADIANS(tp1.lat)) * SIN(RADIANS(tp2.lat))\n",
    "            )\n",
    "        ) AS total_distance\n",
    "    FROM\n",
    "        Activity AS a\n",
    "    JOIN\n",
    "        TrackPoint AS tp1 ON a.id = tp1.activity_id\n",
    "    JOIN drop the files \n",
    "        TrackPoint AS tp2 ON a.id = tp2.activity_id AND tp1.id = tp2.id - 1\n",
    "    WHERE\n",
    "        a.transportation_mode != 'NULL'\n",
    "    GROUP BY\n",
    "        a.user_id, a.transportation_mode\n",
    ")\n",
    "SELECT *\n",
    "FROM distance\n",
    "\n",
    "\n",
    "\n",
    "\"\"\")\n",
    "\n",
    "cursor.fetchall()"
   ]
  },
  {
   "cell_type": "markdown",
   "metadata": {},
   "source": [
    "11."
   ]
  },
  {
   "cell_type": "code",
   "execution_count": 28,
   "metadata": {},
   "outputs": [
    {
     "data": {
      "text/plain": [
       "[('010', 'taxi'),\n",
       " ('020', 'bike'),\n",
       " ('021', 'walk'),\n",
       " ('052', 'bus'),\n",
       " ('056', 'bike'),\n",
       " ('058', 'taxi'),\n",
       " ('058', 'car'),\n",
       " ('058', 'walk'),\n",
       " ('060', 'walk'),\n",
       " ('062', 'walk'),\n",
       " ('062', 'bus'),\n",
       " ('064', 'bike'),\n",
       " ('065', 'bike'),\n",
       " ('067', 'walk'),\n",
       " ('069', 'bike'),\n",
       " ('073', 'walk'),\n",
       " ('075', 'walk'),\n",
       " ('076', 'car'),\n",
       " ('078', 'walk'),\n",
       " ('080', 'taxi'),\n",
       " ('080', 'bike'),\n",
       " ('081', 'bike'),\n",
       " ('082', 'walk'),\n",
       " ('084', 'walk'),\n",
       " ('085', 'walk'),\n",
       " ('086', 'car'),\n",
       " ('087', 'walk'),\n",
       " ('089', 'car'),\n",
       " ('091', 'bus'),\n",
       " ('091', 'walk'),\n",
       " ('092', 'bus'),\n",
       " ('092', 'walk'),\n",
       " ('097', 'bike'),\n",
       " ('098', 'taxi'),\n",
       " ('101', 'car'),\n",
       " ('102', 'bike'),\n",
       " ('107', 'walk'),\n",
       " ('108', 'walk'),\n",
       " ('111', 'taxi'),\n",
       " ('112', 'walk'),\n",
       " ('115', 'car'),\n",
       " ('117', 'walk'),\n",
       " ('125', 'bike'),\n",
       " ('126', 'bike'),\n",
       " ('128', 'car'),\n",
       " ('136', 'walk'),\n",
       " ('138', 'bike'),\n",
       " ('139', 'bike'),\n",
       " ('144', 'walk'),\n",
       " ('153', 'walk'),\n",
       " ('161', 'walk'),\n",
       " ('163', 'bike'),\n",
       " ('167', 'bike'),\n",
       " ('175', 'bus')]"
      ]
     },
     "execution_count": 28,
     "metadata": {},
     "output_type": "execute_result"
    }
   ],
   "source": [
    "cursor.execute(\"\"\"\n",
    "SELECT \n",
    "    user_id, \n",
    "    transportation_mode\n",
    "FROM \n",
    "    (SELECT \n",
    "        user_id, \n",
    "        transportation_mode, \n",
    "        RANK() OVER(PARTITION BY user_id ORDER BY COUNT(*) DESC) as rnk\n",
    "     FROM Activity\n",
    "     WHERE transportation_mode != 'NULL'\n",
    "     GROUP BY user_id, transportation_mode) AS Ranked\n",
    "WHERE \n",
    "    rnk = 1\n",
    "ORDER BY \n",
    "    user_id ASC;\n",
    "\n",
    "\"\"\")\n",
    "\n",
    "cursor.fetchall()"
   ]
  },
  {
   "cell_type": "markdown",
   "metadata": {},
   "source": [
    "12."
   ]
  },
  {
   "cell_type": "code",
   "execution_count": null,
   "metadata": {},
   "outputs": [],
   "source": []
  }
 ],
 "metadata": {
  "kernelspec": {
   "display_name": "Python 3",
   "language": "python",
   "name": "python3"
  },
  "language_info": {
   "codemirror_mode": {
    "name": "ipython",
    "version": 3
   },
   "file_extension": ".py",
   "mimetype": "text/x-python",
   "name": "python",
   "nbconvert_exporter": "python",
   "pygments_lexer": "ipython3",
   "version": "3.7.9"
  },
  "orig_nbformat": 4
 },
 "nbformat": 4,
 "nbformat_minor": 2
}
